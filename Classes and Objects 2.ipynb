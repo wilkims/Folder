{
 "cells": [
  {
   "cell_type": "code",
   "execution_count": null,
   "id": "70fff452-9e35-45ec-bbaa-ff5dd9030fce",
   "metadata": {},
   "outputs": [],
   "source": [
    "A class defines a blueprint for objects\n",
    "Objects are the intances of a class"
   ]
  },
  {
   "cell_type": "code",
   "execution_count": 3,
   "id": "c9ec235c-00ae-40a7-a3e1-a7666d7127a9",
   "metadata": {},
   "outputs": [],
   "source": [
    "class car:\n",
    "    wheels = 4 \n",
    "    def __init__(self, brand, model, year):\n",
    "        self.brand = brand\n",
    "        self.model = model\n",
    "        self.year = year\n",
    "\n",
    "    def display_info(self):\n",
    "        print(f\"Car: {self.brand} {self.model} {self.year}\")"
   ]
  },
  {
   "cell_type": "code",
   "execution_count": 4,
   "id": "120c7686-20df-472b-a904-0d6b12b6253e",
   "metadata": {},
   "outputs": [
    {
     "name": "stdout",
     "output_type": "stream",
     "text": [
      "Car: Toyota Corolla 2020\n"
     ]
    }
   ],
   "source": [
    "my_car = car(\"Toyota\" , \"Corolla\", 2020)\n",
    "my_car.display_info()"
   ]
  },
  {
   "cell_type": "code",
   "execution_count": 11,
   "id": "6888083d-e9eb-49a6-b896-a43f8d2826eb",
   "metadata": {},
   "outputs": [
    {
     "name": "stdout",
     "output_type": "stream",
     "text": [
      "Available books:\n",
      "Python Programming (3 copies)\n",
      "Data Science Handbook (2 copies)\n",
      "Machine Learning Guide (1 copies)\n",
      "Bob borrowed Python Programming.\n",
      "Available books:\n",
      "Python Programming (2 copies)\n",
      "Data Science Handbook (2 copies)\n",
      "Machine Learning Guide (1 copies)\n",
      "Bob returned Python Programming.\n",
      "Available books:\n",
      "Python Programming (3 copies)\n",
      "Data Science Handbook (2 copies)\n",
      "Machine Learning Guide (1 copies)\n"
     ]
    }
   ],
   "source": [
    "class Student:\n",
    "    def __init__(self, name, student_id):\n",
    "        self.name = name\n",
    "        self.student_id = student_id\n",
    "        self.borrowed_books = []\n",
    "\n",
    "    def borrow_book(self, book_name, library):\n",
    "        if library.lend_book(book_name, self):\n",
    "            self.borrowed_books.append(book_name)\n",
    "            print(f\"{self.name} borrowed {book_name}.\")\n",
    "        else:\n",
    "            print(f\"{book_name} is not available.\")\n",
    "\n",
    "    def return_book(self, book_name, library):\n",
    "        if book_name in self.borrowed_books:\n",
    "            library.receive_book(book_name)\n",
    "            self.borrowed_books.remove(book_name)\n",
    "            print(f\"{self.name} returned {book_name}.\")\n",
    "        else:\n",
    "            print(f\"{self.name} does not have {book_name}.\")\n",
    "\n",
    "\n",
    "class Library:\n",
    "    def __init__(self, books):\n",
    "        self.books = books\n",
    "\n",
    "    def display_books(self):\n",
    "        print(\"Available books:\")\n",
    "        for book, count in self.books.items():\n",
    "            print(f\"{book} ({count} copies)\")\n",
    "\n",
    "    def lend_book(self, book_name, student):\n",
    "        if book_name in self.books and self.books[book_name] > 0:\n",
    "            self.books[book_name] -= 1\n",
    "            return True\n",
    "        return False\n",
    "\n",
    "    def receive_book(self, book_name):\n",
    "        if book_name in self.books:\n",
    "            self.books[book_name] += 1\n",
    "        else:\n",
    "            self.books[book_name] = 1\n",
    "\n",
    "\n",
    "library = Library({\"Python Programming\": 3, \"Data Science Handbook\": 2, \"Machine Learning Guide\": 1})\n",
    "student1 = Student(\"Bob\", \"S101\")\n",
    "\n",
    "library.display_books()\n",
    "student1.borrow_book(\"Python Programming\", library)\n",
    "library.display_books()\n",
    "student1.return_book(\"Python Programming\", library)\n",
    "library.display_books()\n"
   ]
  },
  {
   "cell_type": "code",
   "execution_count": null,
   "id": "83de7b2f-9920-4034-84ec-10e907877446",
   "metadata": {},
   "outputs": [],
   "source": []
  }
 ],
 "metadata": {
  "kernelspec": {
   "display_name": "Python 3 (ipykernel)",
   "language": "python",
   "name": "python3"
  },
  "language_info": {
   "codemirror_mode": {
    "name": "ipython",
    "version": 3
   },
   "file_extension": ".py",
   "mimetype": "text/x-python",
   "name": "python",
   "nbconvert_exporter": "python",
   "pygments_lexer": "ipython3",
   "version": "3.12.6"
  }
 },
 "nbformat": 4,
 "nbformat_minor": 5
}
