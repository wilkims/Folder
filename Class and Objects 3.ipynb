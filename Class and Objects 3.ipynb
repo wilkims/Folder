{
 "cells": [
  {
   "cell_type": "code",
   "execution_count": 1,
   "id": "25f1b99f-0ea6-41f5-b6fd-5ddaf55aa84f",
   "metadata": {},
   "outputs": [
    {
     "name": "stdout",
     "output_type": "stream",
     "text": [
      "Current Balance for Alice: $1000\n",
      "Deposited: $500\n",
      "Current Balance for Alice: $1500\n",
      "Withdrawn: $200\n",
      "Current Balance for Alice: $1300\n",
      "Insufficient balance!\n"
     ]
    }
   ],
   "source": [
    "class BankAccount:\n",
    "    # Initializer with an optional balance parameter, defaulting to 0\n",
    "    def __init__(self, account_holder, balance=0):\n",
    "        self.account_holder = account_holder  # instance attribute for account holder's name\n",
    "        self.balance = balance  # instance attribute for the account balance\n",
    "\n",
    "    # Method to deposit money\n",
    "    def deposit(self, amount):\n",
    "        if amount > 0:\n",
    "            self.balance += amount\n",
    "            print(f\"Deposited: ${amount}\")\n",
    "        else:\n",
    "            print(\"Deposit amount must be positive.\")\n",
    "\n",
    "    # Method to withdraw money   \n",
    "    def withdraw(self, amount):\n",
    "        if amount > self.balance:\n",
    "            print(\"Insufficient balance!\")\n",
    "        elif amount <= 0:\n",
    "            print(\"Withdrawal amount must be positive.\")\n",
    "        else:\n",
    "            self.balance -= amount\n",
    "            print(f\"Withdrawn: ${amount}\")\n",
    "\n",
    "    # Method to check the current balance\n",
    "    def get_balance(self):\n",
    "        return f\"Current Balance for {self.account_holder}: ${self.balance}\"\n",
    "\n",
    "# Creating an instance (object) of the BankAccount class\n",
    "account1 = BankAccount(\"Alice\", 1000)  # account for Alice with initial balance of $1000\n",
    "\n",
    "# Using the object to call methods\n",
    "print(account1.get_balance())  # Output: \"Current Balance for Alice: $1000\"\n",
    "\n",
    "account1.deposit(500)          # Deposit $500\n",
    "print(account1.get_balance())   # Output: \"Current Balance for Alice: $1500\"\n",
    "\n",
    "account1.withdraw(200)          # Withdraw $200\n",
    "print(account1.get_balance())   # Output: \"Current Balance for Alice: $1300\"\n",
    "\n",
    "account1.withdraw(2000)         # Attempt to withdraw more than balance\n"
   ]
  },
  {
   "cell_type": "code",
   "execution_count": 4,
   "id": "8092f150-f0ee-4580-84d7-7a2782b0dfec",
   "metadata": {},
   "outputs": [
    {
     "name": "stdout",
     "output_type": "stream",
     "text": [
      "Added student Alice to the course Mathematics.\n",
      "Added student Bob to the course Mathematics.\n",
      "Added student Charlie to the course Mathematics.\n",
      "Added grade 85 for Alice.\n",
      "Added grade 90 for Alice.\n",
      "Added grade 78 for Bob.\n",
      "Added grade 88 for Bob.\n",
      "Added grade 92 for Charlie.\n",
      "Added grade 81 for Charlie.\n",
      "\n",
      "Students in Mathematics:\n",
      "Student: Alice, ID: 101, Average Grade: 87.50\n",
      "Student: Bob, ID: 102, Average Grade: 83.00\n",
      "Student: Charlie, ID: 103, Average Grade: 86.50\n",
      "\n",
      "Course Average for Mathematics: 85.67\n"
     ]
    }
   ],
   "source": [
    "class Student:\n",
    "    def __init__(self, name, student_id):\n",
    "        self.name = name                # instance attribute for student name\n",
    "        self.student_id = student_id    # instance attribute for student ID\n",
    "        self.grades = []                # instance attribute for a list of grades\n",
    "\n",
    "    def add_grade(self, grade):\n",
    "        if 0 <= grade <= 100:\n",
    "            self.grades.append(grade)\n",
    "            print(f\"Added grade {grade} for {self.name}.\")\n",
    "        else:\n",
    "            print(\"Grade must be between 0 and 100.\")\n",
    "\n",
    "    def get_average(self):\n",
    "        if self.grades:\n",
    "            return sum(self.grades) / len(self.grades)\n",
    "        return 0\n",
    "\n",
    "    def __str__(self):\n",
    "        return f\"Student: {self.name}, ID: {self.student_id}, Average Grade: {self.get_average():.2f}\"\n",
    "\n",
    "\n",
    "class Course:\n",
    "    def __init__(self, course_name):\n",
    "        self.course_name = course_name\n",
    "        self.students = []\n",
    "\n",
    "    def add_student(self, student):\n",
    "        self.students.append(student)\n",
    "        print(f\"Added student {student.name} to the course {self.course_name}.\")\n",
    "\n",
    "    def list_students(self):\n",
    "        print(f\"\\nStudents in {self.course_name}:\")\n",
    "        for student in self.students:\n",
    "            print(student)\n",
    "\n",
    "    def course_average(self):\n",
    "        if self.students:\n",
    "            total = sum(student.get_average() for student in self.students)\n",
    "            return total / len(self.students)\n",
    "        return 0\n",
    "\n",
    "\n",
    "# Example Usage\n",
    "if __name__ == \"__main__\":\n",
    "    # Create a course instance\n",
    "    math_course = Course(\"Mathematics\")\n",
    "\n",
    "    # Create student instances\n",
    "    student1 = Student(\"Alice\", 101)\n",
    "    student2 = Student(\"Bob\", 102)\n",
    "    student3 = Student(\"Charlie\", 103)\n",
    "\n",
    "    # Add students to the course\n",
    "    math_course.add_student(student1)\n",
    "    math_course.add_student(student2)\n",
    "    math_course.add_student(student3)\n",
    "\n",
    "    # Add grades for each student\n",
    "    student1.add_grade(85)\n",
    "    student1.add_grade(90)\n",
    "    student2.add_grade(78)\n",
    "    student2.add_grade(88)\n",
    "    student3.add_grade(92)\n",
    "    student3.add_grade(81)\n",
    "\n",
    "    # List students and their average grades\n",
    "    math_course.list_students()\n",
    "\n",
    "    # Calculate and display the course average\n",
    "    print(f\"\\nCourse Average for {math_course.course_name}: {math_course.course_average():.2f}\")\n"
   ]
  },
  {
   "cell_type": "code",
   "execution_count": 3,
   "id": "82cb92bc-4ed2-4e01-b4d7-33ac5090f9fe",
   "metadata": {},
   "outputs": [
    {
     "name": "stdout",
     "output_type": "stream",
     "text": [
      "Area: 50\n",
      "Perimeter: 30\n"
     ]
    }
   ],
   "source": [
    "class Rectangle:\n",
    "    def __init__(self, length, width):\n",
    "    \n",
    "        self.length = length\n",
    "        self.width = width\n",
    "\n",
    "    def area(self):\n",
    "        return self.length * self.width\n",
    "\n",
    "    def perimeter(self):\n",
    "        return 2 *(self.length + self.width)\n",
    "\n",
    "\n",
    "if __name__ == \"__main__\":\n",
    "    rect = Rectangle(10, 5)\n",
    "\n",
    "    print(\"Area:\", rect.area())\n",
    "    print(\"Perimeter:\", rect.perimeter())"
   ]
  },
  {
   "cell_type": "code",
   "execution_count": 7,
   "id": "c7ccc927-ae0d-4c8d-b4e6-cfb902a5b288",
   "metadata": {},
   "outputs": [],
   "source": [
    "class person:\n",
    "    def __init__(self, name):\n",
    "        self.name = name\n",
    "\n",
    "    def greet(self):\n",
    "        print(f\"Hello, my name is {self.name}.\")\n",
    "\n",
    "person = person(\"Alice\")"
   ]
  },
  {
   "cell_type": "code",
   "execution_count": 8,
   "id": "8280d534-37d6-4f08-bce8-99cbac3f92e1",
   "metadata": {},
   "outputs": [
    {
     "name": "stdout",
     "output_type": "stream",
     "text": [
      "Hello, my name is Alice.\n"
     ]
    }
   ],
   "source": [
    "person.greet()"
   ]
  },
  {
   "cell_type": "code",
   "execution_count": 1,
   "id": "c15ce4bd-129c-4cdb-a18c-665ffcdbcff5",
   "metadata": {},
   "outputs": [
    {
     "name": "stdout",
     "output_type": "stream",
     "text": [
      "Vehicle: 2022 Generic Model-X\n",
      "Vehicle engine started.\n",
      "Vehicle: 2023 Toyota Camry, Doors: 4, Fuel Type: Petrol\n",
      "The Petrol engine of the car has started.\n",
      "Car horn: Beep beep!\n"
     ]
    }
   ],
   "source": [
    "# Question\n",
    "\n",
    "# Base class: Vehicle\n",
    "class Vehicle:\n",
    "    def __init__(self, make, model, year):\n",
    "        self.make = make\n",
    "        self.model = model\n",
    "        self.year = year\n",
    "\n",
    "    def display_info(self):\n",
    "        return f\"Vehicle: {self.year} {self.make} {self.model}\"\n",
    "\n",
    "    def start_engine(self):\n",
    "        return \"Vehicle engine started.\"\n",
    "\n",
    "# Derived class: Car\n",
    "class Car(Vehicle):\n",
    "    def __init__(self, make, model, year, num_doors, fuel_type):\n",
    "        # Call the initializer of the base class\n",
    "        super().__init__(make, model, year)\n",
    "        self.num_doors = num_doors\n",
    "        self.fuel_type = fuel_type\n",
    "\n",
    "    # Overriding the display_info method\n",
    "    def display_info(self):\n",
    "        base_info = super().display_info()\n",
    "        return f\"{base_info}, Doors: {self.num_doors}, Fuel Type: {self.fuel_type}\"\n",
    "\n",
    "    # New method specific to Car\n",
    "    def honk_horn(self):\n",
    "        return \"Car horn: Beep beep!\"\n",
    "\n",
    "    # Overriding the start_engine method\n",
    "    def start_engine(self):\n",
    "        return f\"The {self.fuel_type} engine of the car has started.\"\n",
    "\n",
    "# Test the classes\n",
    "if __name__ == \"__main__\":\n",
    "    # Create a Vehicle object\n",
    "    vehicle = Vehicle(\"Generic\", \"Model-X\", 2022)\n",
    "    print(vehicle.display_info())   # Base class method\n",
    "    print(vehicle.start_engine())  # Base class method\n",
    "\n",
    "    # Create a Car object\n",
    "    car = Car(\"Toyota\", \"Camry\", 2023, 4, \"Petrol\")\n",
    "    print(car.display_info())       # Overridden method in the subclass\n",
    "    print(car.start_engine())      # Overridden method in the subclass\n",
    "    print(car.honk_horn())         # Method specific to the Car class\n"
   ]
  }
 ],
 "metadata": {
  "kernelspec": {
   "display_name": "Python 3 (ipykernel)",
   "language": "python",
   "name": "python3"
  },
  "language_info": {
   "codemirror_mode": {
    "name": "ipython",
    "version": 3
   },
   "file_extension": ".py",
   "mimetype": "text/x-python",
   "name": "python",
   "nbconvert_exporter": "python",
   "pygments_lexer": "ipython3",
   "version": "3.12.6"
  }
 },
 "nbformat": 4,
 "nbformat_minor": 5
}
